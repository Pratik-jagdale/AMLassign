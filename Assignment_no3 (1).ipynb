{
  "nbformat": 4,
  "nbformat_minor": 0,
  "metadata": {
    "colab": {
      "provenance": []
    },
    "kernelspec": {
      "name": "python3",
      "display_name": "Python 3"
    },
    "language_info": {
      "name": "python"
    }
  },
  "cells": [
    {
      "cell_type": "code",
      "source": [
        "import pandas as pd\n",
        "import numpy as np\n",
        "import re\n",
        "import matplotlib.pyplot as plt\n",
        "from sklearn.model_selection import train_test_split\n",
        "from sklearn.feature_extraction.text import TfidfVectorizer\n",
        "from sklearn.naive_bayes import MultinomialNB\n",
        "from sklearn.metrics import accuracy_score, classification_report, confusion_matrix\n",
        "from nltk.corpus import stopwords\n",
        "from nltk.tokenize import word_tokenize\n",
        "import nltk\n",
        "\n",
        "# Download NLTK resources\n",
        "nltk.download('stopwords')\n",
        "nltk.download('punkt')\n",
        "\n",
        "# Assuming you have uploaded 'twitter_data.csv' to your Colab environment\n",
        "# Replace 'twitter_data.csv' with the actual file name if it's different.\n",
        "file_path = 'twitter_data.csv'\n",
        "\n",
        "try:\n",
        "  # Load dataset\n",
        "  column_names = [\"ID\", \"Topic\", \"Sentiment\", \"Text\"]\n",
        "  df = pd.read_csv(file_path, names=column_names, header=None)\n",
        "\n",
        "  # Explore dataset\n",
        "  print(df.head())\n",
        "  print(df.info())\n",
        "  print(df['Sentiment'].value_counts())  # Check sentiment distribution\n",
        "\n",
        "  # Preprocessing function\n",
        "  def preprocess_text(text):\n",
        "      text = text.lower()  # Convert to lowercase\n",
        "      text = re.sub(r'http\\S+|www.\\S+', '', text)  # Remove URLs\n",
        "      text = re.sub(r'[^a-zA-Z\\s]', '', text)  # Remove special characters\n",
        "      words = word_tokenize(text)\n",
        "      words = [word for word in words if word not in stopwords.words('english')]  # Remove stopwords\n",
        "      return ' '.join(words)\n",
        "\n",
        "  # Apply preprocessing\n",
        "  df['Cleaned_Text'] = df['Text'].fillna(\"\").apply(preprocess_text)\n",
        "\n",
        "  # Split features and target\n",
        "  X = df['Cleaned_Text']\n",
        "  y = df['Sentiment']\n",
        "\n",
        "  # Convert text data into TF-IDF features\n",
        "  tfidf_vectorizer = TfidfVectorizer(max_features=5000)\n",
        "  X_tfidf = tfidf_vectorizer.fit_transform(X)\n",
        "\n",
        "  # Split dataset into training and testing sets\n",
        "  X_train, X_test, y_train, y_test = train_test_split(X_tfidf, y, test_size=0.2, random_state=42, stratify=y)\n",
        "\n",
        "  # Train Naive Bayes classifier\n",
        "  nb_model = MultinomialNB()\n",
        "  nb_model.fit(X_train, y_train)\n",
        "\n",
        "  # Predictions\n",
        "  y_pred = nb_model.predict(X_test)\n",
        "\n",
        "  # Evaluate model performance\n",
        "  accuracy = accuracy_score(y_test, y_pred)\n",
        "  print(\"Accuracy:\", accuracy)\n",
        "  print(\"Classification Report:\\n\", classification_report(y_test, y_pred))\n",
        "  print(\"Confusion Matrix:\\n\", confusion_matrix(y_test, y_pred))\n",
        "\n",
        "  # Plot sentiment distribution\n",
        "  df['Sentiment'].value_counts().plot(kind='bar', title='Sentiment Distribution')\n",
        "  plt.xlabel('Sentiment')\n",
        "  plt.ylabel('Count')\n",
        "  plt.show()\n",
        "\n",
        "except FileNotFoundError:\n",
        "  print(f\"Error: File '{file_path}' not found. Please upload the CSV file to your Colab environment.\")\n",
        "except Exception as e:\n",
        "  print(f\"An error occurred: {e}\")\n"
      ],
      "metadata": {
        "colab": {
          "base_uri": "https://localhost:8080/",
          "height": 1000
        },
        "id": "MgNtCZpR1Cay",
        "outputId": "03d4ec0e-b8b5-4654-c863-6b557fdf4ee1"
      },
      "execution_count": null,
      "outputs": [
        {
          "output_type": "stream",
          "name": "stderr",
          "text": [
            "[nltk_data] Downloading package stopwords to /root/nltk_data...\n",
            "[nltk_data]   Package stopwords is already up-to-date!\n",
            "[nltk_data] Downloading package punkt to /root/nltk_data...\n",
            "[nltk_data]   Package punkt is already up-to-date!\n"
          ]
        },
        {
          "output_type": "stream",
          "name": "stdout",
          "text": [
            "     ID        Topic Sentiment  \\\n",
            "0  2401  Borderlands  Positive   \n",
            "1  2401  Borderlands  Positive   \n",
            "2  2401  Borderlands  Positive   \n",
            "3  2401  Borderlands  Positive   \n",
            "4  2401  Borderlands  Positive   \n",
            "\n",
            "                                                Text  \n",
            "0  im getting on borderlands and i will murder yo...  \n",
            "1  I am coming to the borders and I will kill you...  \n",
            "2  im getting on borderlands and i will kill you ...  \n",
            "3  im coming on borderlands and i will murder you...  \n",
            "4  im getting on borderlands 2 and i will murder ...  \n",
            "<class 'pandas.core.frame.DataFrame'>\n",
            "RangeIndex: 74682 entries, 0 to 74681\n",
            "Data columns (total 4 columns):\n",
            " #   Column     Non-Null Count  Dtype \n",
            "---  ------     --------------  ----- \n",
            " 0   ID         74682 non-null  int64 \n",
            " 1   Topic      74682 non-null  object\n",
            " 2   Sentiment  74682 non-null  object\n",
            " 3   Text       73996 non-null  object\n",
            "dtypes: int64(1), object(3)\n",
            "memory usage: 2.3+ MB\n",
            "None\n",
            "Sentiment\n",
            "Negative      22542\n",
            "Positive      20832\n",
            "Neutral       18318\n",
            "Irrelevant    12990\n",
            "Name: count, dtype: int64\n",
            "Accuracy: 0.6391511012920934\n",
            "Classification Report:\n",
            "               precision    recall  f1-score   support\n",
            "\n",
            "  Irrelevant       0.75      0.36      0.49      2598\n",
            "    Negative       0.62      0.81      0.70      4509\n",
            "     Neutral       0.66      0.52      0.59      3664\n",
            "    Positive       0.62      0.73      0.67      4166\n",
            "\n",
            "    accuracy                           0.64     14937\n",
            "   macro avg       0.66      0.61      0.61     14937\n",
            "weighted avg       0.65      0.64      0.63     14937\n",
            "\n",
            "Confusion Matrix:\n",
            " [[ 946  684  282  686]\n",
            " [  83 3639  326  461]\n",
            " [ 140  856 1922  746]\n",
            " [  89  674  363 3040]]\n"
          ]
        },
        {
          "output_type": "display_data",
          "data": {
            "text/plain": [
              "<Figure size 640x480 with 1 Axes>"
            ],
            "image/png": "[encoded data removed]"
          },
          "metadata": {}
        }
      ]
    }
  ]
}